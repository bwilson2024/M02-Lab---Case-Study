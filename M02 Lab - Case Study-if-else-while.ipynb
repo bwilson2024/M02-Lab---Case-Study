{
 "cells": [
  {
   "cell_type": "code",
   "execution_count": null,
   "id": "4fba2b38",
   "metadata": {},
   "outputs": [],
   "source": [
    "# Brandon Wilson\n",
    "# File Name: M02 Lab - Case Study-if-else-while.ipynb\n",
    "# Description: accepts a student's name and GPA, \n",
    "# then checks if the student qualifies for the Dean's List or the Honor Roll.\n",
    "# Variables:\n",
    "# last_name: String. Stores the last name of the student.\n",
    "# first_name: String. Stores the first name of the student.\n",
    "# gpa: Float. Stores the GPA of the student."
   ]
  },
  {
   "cell_type": "code",
   "execution_count": 23,
   "id": "851c5f00",
   "metadata": {},
   "outputs": [
    {
     "name": "stdout",
     "output_type": "stream",
     "text": [
      "Enter student's last name.  If you enter 'ZZZ' you will quit. Wilson\n",
      "Enter the student's first name: Brandon\n",
      "Enter the student's GPA: 3.8\n",
      "Brandon Wilson made the Dean's List.\n",
      "Enter student's last name.  If you enter 'ZZZ' you will quit. Thompson\n",
      "Enter the student's first name: Sam\n",
      "Enter the student's GPA: 2.0\n",
      "Sam Thompson didn't make the Dean's list or the Honor Roll.\n",
      "Enter student's last name.  If you enter 'ZZZ' you will quit. Smith\n",
      "Enter the student's first name: Sally\n",
      "Enter the student's GPA: 3.3\n",
      "Sally Smith made the Honor Roll.\n",
      "Enter student's last name.  If you enter 'ZZZ' you will quit. Gwinnup\n",
      "Enter the student's first name: Benjamin\n",
      "Enter the student's GPA: 1.0\n",
      "Benjamin Gwinnup didn't make the Dean's list or the Honor Roll.\n",
      "Enter student's last name.  If you enter 'ZZZ' you will quit. Wang\n",
      "Enter the student's first name: Carol\n",
      "Enter the student's GPA: 3.9\n",
      "Carol Wang made the Dean's List.\n",
      "Enter student's last name.  If you enter 'ZZZ' you will quit. ZZZ\n",
      "Thanks for playing, you have quit!\n"
     ]
    }
   ],
   "source": [
    "while True:\n",
    "    last_name = input(\"Enter student's last name.  If you enter 'ZZZ' you will quit. \")\n",
    "    if last_name != 'ZZZ':\n",
    "        first_name = input(\"Enter the student's first name: \")\n",
    "        gpa = float(input(\"Enter the student's GPA: \"))\n",
    "\n",
    "        if gpa >= 3.5:\n",
    "            print(first_name + \" \" + last_name + \" made the Dean's List.\")\n",
    "        elif gpa >= 3.25:\n",
    "            print(first_name + \" \" + last_name + \" made the Honor Roll.\")\n",
    "        else:\n",
    "            print(first_name + \" \" + last_name + \" didn't make the Dean's list or the Honor Roll.\")\n",
    "\n",
    "    else:\n",
    "        print(\"Thanks for playing, you have quit!\")\n",
    "        break"
   ]
  },
  {
   "cell_type": "code",
   "execution_count": null,
   "id": "6eb3c60c",
   "metadata": {},
   "outputs": [],
   "source": []
  },
  {
   "cell_type": "code",
   "execution_count": null,
   "id": "fb95d735",
   "metadata": {},
   "outputs": [],
   "source": []
  }
 ],
 "metadata": {
  "kernelspec": {
   "display_name": "Python 3 (ipykernel)",
   "language": "python",
   "name": "python3"
  },
  "language_info": {
   "codemirror_mode": {
    "name": "ipython",
    "version": 3
   },
   "file_extension": ".py",
   "mimetype": "text/x-python",
   "name": "python",
   "nbconvert_exporter": "python",
   "pygments_lexer": "ipython3",
   "version": "3.11.4"
  }
 },
 "nbformat": 4,
 "nbformat_minor": 5
}
